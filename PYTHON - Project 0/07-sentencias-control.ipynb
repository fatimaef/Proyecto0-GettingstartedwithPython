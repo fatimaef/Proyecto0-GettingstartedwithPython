{
 "cells": [
  {
   "cell_type": "markdown",
   "metadata": {},
   "source": [
    "<div style=\"text-align: center;\">\n",
    "  <img src=\"https://github.com/Hack-io-Data/Imagenes/blob/main/01-LogosHackio/logo_celeste@4x.png?raw=true\" alt=\"logo hack(io)\" />\n",
    "</div>"
   ]
  },
  {
   "cell_type": "markdown",
   "metadata": {},
   "source": [
    "#### 1. Escribe un programa que determine si un número es par o impar.\n",
    "\n"
   ]
  },
  {
   "cell_type": "code",
   "execution_count": 5,
   "metadata": {},
   "outputs": [
    {
     "name": "stdout",
     "output_type": "stream",
     "text": [
      "El numero es impar\n"
     ]
    }
   ],
   "source": [
    "numero = int(input(\"Introduce un numero:\"))\n",
    "\n",
    "#si el numero dividido entre 2, el resto es igual a 0\n",
    "if (numero % 2 == 0):\n",
    "    print(\"El numero es par\")\n",
    "else:\n",
    "    print(\"El numero es impar\")"
   ]
  },
  {
   "cell_type": "markdown",
   "metadata": {},
   "source": [
    "#### 2. Genera un programa que nos diga si es de noche, de día o tarde según la hora proporcionada por el usuario."
   ]
  },
  {
   "cell_type": "code",
   "execution_count": 8,
   "metadata": {},
   "outputs": [
    {
     "name": "stdout",
     "output_type": "stream",
     "text": [
      "Es de día\n"
     ]
    }
   ],
   "source": [
    "hora = int(input(\"Introduce hora:\"))\n",
    "\n",
    "#si la hora es mayor que 20 y menor que 23 \n",
    "#o la hora es mayor que las 0 y menor que las 7\n",
    "if (hora >= 20 and hora <= 23) or (hora >= 0 and hora <= 7):\n",
    "    print(\"Es de noche\")\n",
    "#sino se cumple la anterior y la hora es mayor que 8 y menor que 13\n",
    "elif (hora >= 8 and hora <= 13):\n",
    "    print(\"Es de día\")\n",
    "#sino se cumplen las anteriores y la hora es mayor que 14 y menor que 19\n",
    "elif (hora >= 14 and hora <= 19):\n",
    "    print(\"Es de tarde\")\n",
    "else:\n",
    "    print(\"Hora incorrecta\")\n"
   ]
  },
  {
   "cell_type": "markdown",
   "metadata": {},
   "source": [
    "#### 3. Dado un nombre imprime un saludo personalizado."
   ]
  },
  {
   "cell_type": "code",
   "execution_count": 14,
   "metadata": {},
   "outputs": [
    {
     "name": "stdout",
     "output_type": "stream",
     "text": [
      "Hola\n"
     ]
    }
   ],
   "source": [
    "nombre = input(\"Introduce nombre: \")\n",
    "\n",
    "if (nombre == \"Maria\"):\n",
    "    print(\"Hola\", nombre, \"bienvenida al instituto\")\n",
    "elif (nombre == \"Pablo\"):\n",
    "    print(\"Hola\", nombre, \"bienvenido como profesor\")\n",
    "elif (nombre == \"Antonio\"):\n",
    "    print(\"Hola\", nombre, \"que bien te vemos jubilado\")\n",
    "else:\n",
    "    print(\"Hola\")"
   ]
  },
  {
   "cell_type": "markdown",
   "metadata": {},
   "source": [
    "#### 4. Escribe un programa que determine qué calificación en texto tiene un alumno en base a su calificación numérica. Las reglas de calificación son: \n",
    "\n",
    "- 0 - 69 insuficiente\n",
    "\n",
    "- 70 - 79 bien\n",
    "\n",
    "- 80 - 89 muy bien\n",
    "\n",
    "- 90 - 100 excelente\n"
   ]
  },
  {
   "cell_type": "code",
   "execution_count": 18,
   "metadata": {},
   "outputs": [
    {
     "name": "stdout",
     "output_type": "stream",
     "text": [
      "Muy bien\n"
     ]
    }
   ],
   "source": [
    "calificacion = int(input(\"Introduce calificación: \"))\n",
    "\n",
    "#si la calificacion esta entre 0 y 69\n",
    "if (calificacion >= 0 and calificacion <= 69):\n",
    "    print(\"Insuficiente\")\n",
    "elif (calificacion >= 70 and calificacion <= 79):\n",
    "    print(\"Bien\")\n",
    "elif (calificacion >= 80 and calificacion <= 89):\n",
    "    print(\"Muy bien\")\n",
    "elif (calificacion >= 90 and calificacion <= 100):\n",
    "    print(\"Excelente\")\n",
    "else:\n",
    "    print(\"Calificación incorrecta\")"
   ]
  },
  {
   "cell_type": "markdown",
   "metadata": {},
   "source": [
    "#### 5. Escribe un programa que imprima el día de la semana, dado un número del 1 al 7.\n"
   ]
  },
  {
   "cell_type": "code",
   "execution_count": 21,
   "metadata": {},
   "outputs": [
    {
     "name": "stdout",
     "output_type": "stream",
     "text": [
      "Domingo\n"
     ]
    }
   ],
   "source": [
    "dia = int(input(\"Introduce dia semana: \"))\n",
    "\n",
    "if (dia == 1):\n",
    "    print(\"Lunes\")\n",
    "elif (dia == 2):\n",
    "    print(\"Martes\")\n",
    "elif (dia == 3):\n",
    "    print(\"Miércoles\")\n",
    "elif (dia == 4):\n",
    "    print(\"Jueves\")\n",
    "elif (dia == 5):\n",
    "    print(\"Viernes\")\n",
    "elif (dia == 6):\n",
    "    print(\"Sábado\")\n",
    "elif (dia == 7):\n",
    "    print(\"Domingo\")\n",
    "else:\n",
    "    print(\"Dia incorrecto\")"
   ]
  },
  {
   "cell_type": "markdown",
   "metadata": {},
   "source": [
    "#### 6. Escribe un programa que determine si un número es positivo, negativo o cero."
   ]
  },
  {
   "cell_type": "code",
   "execution_count": 23,
   "metadata": {},
   "outputs": [
    {
     "name": "stdout",
     "output_type": "stream",
     "text": [
      "Positivo\n"
     ]
    }
   ],
   "source": [
    "numero = int(input(\"Introduce numero: \"))\n",
    "\n",
    "#si el numero es mayor que cero\n",
    "if (numero > 0):\n",
    "    print(\"Positivo\")\n",
    "#si el numero es menor que cero\n",
    "elif (numero < 0):\n",
    "    print(\"Negativo\")\n",
    "else: \n",
    "    print(\"Cero\")"
   ]
  },
  {
   "cell_type": "markdown",
   "metadata": {},
   "source": [
    "#### 7. Escribe un programa que determine si una persona puede conducir o no. La edad mínima para conducir es 18 años. \n"
   ]
  },
  {
   "cell_type": "code",
   "execution_count": null,
   "metadata": {},
   "outputs": [],
   "source": [
    "edad = int(input(\"Introduce edad: \"))\n",
    "\n",
    "#si la edad es mayor o igual que 18\n",
    "if (edad >= 18):\n",
    "    print(\"Puede conducir\")\n",
    "else:\n",
    "    print(\"No puede conducir\")"
   ]
  },
  {
   "cell_type": "markdown",
   "metadata": {},
   "source": [
    "#### 8. Escribe un programa que determine si un estudiante aprobó o suspendió un examen."
   ]
  },
  {
   "cell_type": "code",
   "execution_count": null,
   "metadata": {},
   "outputs": [],
   "source": [
    "nota = int(input(\"Introduce nota: \"))\n",
    "\n",
    "#si la nota está entre 0 y menor que 5\n",
    "if (nota >= 0 and nota < 5):\n",
    "    print(\"Suspenso\")\n",
    "#si la nota está entre 5 y 10\n",
    "elif (nota >= 5 and nota <= 10):\n",
    "    print(\"Aprobado\")\n",
    "else:\n",
    "    print(\"Nota incorrecta\")"
   ]
  },
  {
   "cell_type": "markdown",
   "metadata": {},
   "source": [
    "#### 9. Escribe un programa que determine si un número es múltiplo de 3 y 5.\n"
   ]
  },
  {
   "cell_type": "code",
   "execution_count": 22,
   "metadata": {},
   "outputs": [
    {
     "name": "stdout",
     "output_type": "stream",
     "text": [
      "El numero es multiplo de 3 y de 5\n"
     ]
    }
   ],
   "source": [
    "numero = int(input(\"Introduce numero: \"))\n",
    "\n",
    "#el numero es multiplo de 3 si al dividir entre 3 el resto es cero\n",
    "if (numero % 3 == 0 and numero % 5 == 0):\n",
    "    print(\"El numero es multiplo de 3 y de 5\")\n",
    "else: \n",
    "    print(\"El numero NO es multiplo de 3 y de 5\")"
   ]
  },
  {
   "cell_type": "markdown",
   "metadata": {},
   "source": [
    "#### 10. Escribe un programa que determine si un número es par o impar.\n"
   ]
  },
  {
   "cell_type": "code",
   "execution_count": null,
   "metadata": {},
   "outputs": [],
   "source": [
    "numero = int(input(\"Introduce un numero:\"))\n",
    "\n",
    "#si el numero dividido entre 2, el resto es igual a 0, es par\n",
    "if (numero % 2 == 0):\n",
    "    print(\"El numero es par\")\n",
    "else:\n",
    "    print(\"El numero es impar\")"
   ]
  }
 ],
 "metadata": {
  "kernelspec": {
   "display_name": "hackio",
   "language": "python",
   "name": "python3"
  },
  "language_info": {
   "codemirror_mode": {
    "name": "ipython",
    "version": 3
   },
   "file_extension": ".py",
   "mimetype": "text/x-python",
   "name": "python",
   "nbconvert_exporter": "python",
   "pygments_lexer": "ipython3",
   "version": "3.10.11"
  }
 },
 "nbformat": 4,
 "nbformat_minor": 2
}
