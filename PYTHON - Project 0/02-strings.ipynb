{
  "cells": [
    {
      "cell_type": "markdown",
      "metadata": {
        "id": "_zqNJJFeOvR_"
      },
      "source": [
        "<div style=\"text-align: center;\">\n",
        "  <img src=\"https://github.com/Hack-io-Data/Imagenes/blob/main/01-LogosHackio/logo_celeste@4x.png?raw=true\" alt=\"logo hack(io)\" />\n",
        "</div>"
      ]
    },
    {
      "cell_type": "markdown",
      "metadata": {
        "id": "zIvth-IMOvSG",
        "vscode": {
          "languageId": "plaintext"
        }
      },
      "source": [
        "#### 1. Dado el string `texto = \"Hola Mundo\"`, conviértelo todo a minúsculas."
      ]
    },
    {
      "cell_type": "code",
      "execution_count": 15,
      "metadata": {
        "colab": {
          "base_uri": "https://localhost:8080/",
          "height": 36
        },
        "id": "B_P2BBFwOvSH",
        "outputId": "325bd1ab-c6a4-48de-ed0d-2f45aa6f62f4"
      },
      "outputs": [
        {
          "data": {
            "text/plain": [
              "'hola mundo'"
            ]
          },
          "execution_count": 15,
          "metadata": {},
          "output_type": "execute_result"
        }
      ],
      "source": [
        "texto = \"Hola Mundo\"\n",
        "\n",
        "texto.lower()"
      ]
    },
    {
      "cell_type": "markdown",
      "metadata": {
        "id": "Lo87BflaOvSI"
      },
      "source": [
        "#### 2. Dado el string `texto = \"Hola Mundo\"`, conviértelo todo a mayúsculas."
      ]
    },
    {
      "cell_type": "code",
      "execution_count": 1,
      "metadata": {
        "colab": {
          "base_uri": "https://localhost:8080/",
          "height": 36
        },
        "id": "ZTgs35DEOvSI",
        "outputId": "87a24ffd-c378-4e12-b882-6cdd69d0a1f8"
      },
      "outputs": [
        {
          "data": {
            "text/plain": [
              "'HOLA MUNDO'"
            ]
          },
          "execution_count": 1,
          "metadata": {},
          "output_type": "execute_result"
        }
      ],
      "source": [
        "texto = \"Hola Mundo\"\n",
        "\n",
        "texto.upper()"
      ]
    },
    {
      "cell_type": "markdown",
      "metadata": {
        "id": "gafTQbBiOvSJ"
      },
      "source": [
        "#### 3. Dado el string `texto = \"  Hola Mundo  \"`, elimina los espacios al principio y al final."
      ]
    },
    {
      "cell_type": "code",
      "execution_count": 2,
      "metadata": {
        "colab": {
          "base_uri": "https://localhost:8080/",
          "height": 36
        },
        "id": "YKvrDogBOvSJ",
        "outputId": "c6230579-fa77-4e48-9d9a-642c7aef3d7a"
      },
      "outputs": [
        {
          "data": {
            "text/plain": [
              "'Hola Mundo'"
            ]
          },
          "execution_count": 2,
          "metadata": {},
          "output_type": "execute_result"
        }
      ],
      "source": [
        "texto = \"                Hola Mundo                 \"\n",
        "\n",
        "texto.strip()\n"
      ]
    },
    {
      "cell_type": "markdown",
      "metadata": {
        "id": "gy-ZfY2KOvSK"
      },
      "source": [
        "#### 4. Dado el string `texto = \"Hola Mundo\"`, reemplaza \"Mundo\" por \"Python\"."
      ]
    },
    {
      "cell_type": "code",
      "execution_count": 2,
      "metadata": {
        "colab": {
          "base_uri": "https://localhost:8080/",
          "height": 36
        },
        "id": "_fYEvIhYOvSK",
        "outputId": "2535776a-1fc9-4d66-87a8-4e2a32e9f7a7"
      },
      "outputs": [
        {
          "data": {
            "text/plain": [
              "'Hola Python'"
            ]
          },
          "execution_count": 2,
          "metadata": {},
          "output_type": "execute_result"
        }
      ],
      "source": [
        "texto = \"Hola Mundo\"\n",
        "\n",
        "#replace(\"valor_antiguo\", \"valor_nuevo\")\n",
        "texto.replace(\"Mundo\", \"Python\")"
      ]
    },
    {
      "cell_type": "markdown",
      "metadata": {
        "id": "p37D-oRBOvSL"
      },
      "source": [
        "#### 5. Dado el string `texto = \"Hola Mundo\"`, divídelo en palabras."
      ]
    },
    {
      "cell_type": "code",
      "execution_count": 3,
      "metadata": {
        "colab": {
          "base_uri": "https://localhost:8080/"
        },
        "id": "7-doreArOvSL",
        "outputId": "27373316-35d3-4a33-f308-ba0d24ac34e8"
      },
      "outputs": [
        {
          "data": {
            "text/plain": [
              "['Hola', 'Mundo', 'que', 'tal', 'nos', 'lo-pasamos', 'con', 'Python']"
            ]
          },
          "execution_count": 3,
          "metadata": {},
          "output_type": "execute_result"
        }
      ],
      "source": [
        "texto = \"Hola Mundo que tal nos lo-pasamos con Python\"\n",
        "\n",
        "texto.split(\" \")"
      ]
    },
    {
      "cell_type": "markdown",
      "metadata": {
        "id": "vP1LT0FoOvSL"
      },
      "source": [
        "#### 6. Dada la lista `palabras = [\"Hola\", \"Mundo\"]`, únelas en un solo string separado por un espacio."
      ]
    },
    {
      "cell_type": "code",
      "execution_count": 13,
      "metadata": {
        "colab": {
          "base_uri": "https://localhost:8080/",
          "height": 36
        },
        "id": "ZoJ7Y4xTOvSM",
        "outputId": "ff285dbb-63f7-4daa-aa06-b5652c398403"
      },
      "outputs": [
        {
          "data": {
            "text/plain": [
              "'Hola Mundo'"
            ]
          },
          "execution_count": 13,
          "metadata": {},
          "output_type": "execute_result"
        }
      ],
      "source": [
        "palabras = [\"Hola\", \"Mundo\"]\n",
        "separador = \" \"\n",
        "\n",
        "#funcion join\n",
        "separador.join(palabras)\n",
        "\n",
        "#otra forma, directamente con la cadena, sin variable separador\n",
        "\" \".join(palabras)"
      ]
    },
    {
      "cell_type": "markdown",
      "metadata": {
        "id": "eDLaNSgKOvSM"
      },
      "source": [
        "#### 7. Dado el string `texto = \"Hola Mundo\"`, encuentra la posición de la subcadena \"Mundo\"."
      ]
    },
    {
      "cell_type": "code",
      "execution_count": 4,
      "metadata": {
        "colab": {
          "base_uri": "https://localhost:8080/"
        },
        "id": "2xit3XpfOvSN",
        "outputId": "c6cfae4d-f314-4989-d4ee-c21da589b4e7"
      },
      "outputs": [
        {
          "name": "stdout",
          "output_type": "stream",
          "text": [
            "5\n"
          ]
        }
      ],
      "source": [
        "texto = \"Hola Mundo\"\n",
        "\n",
        "print(texto.index(\"Mundo\"))"
      ]
    },
    {
      "cell_type": "markdown",
      "metadata": {
        "id": "rMkz8iTNOvSN"
      },
      "source": [
        "#### 8. Dado el string `texto = \"Hola Mundo\"`, comprueba si empieza con \"Hola\"."
      ]
    },
    {
      "cell_type": "code",
      "execution_count": 5,
      "metadata": {
        "colab": {
          "base_uri": "https://localhost:8080/"
        },
        "id": "7tewVOfQOvSN",
        "outputId": "1c61080d-ebc2-4062-e0a4-77cd334fa453"
      },
      "outputs": [
        {
          "data": {
            "text/plain": [
              "True"
            ]
          },
          "execution_count": 5,
          "metadata": {},
          "output_type": "execute_result"
        }
      ],
      "source": [
        "texto = \"Hola Mundo\"\n",
        "\n",
        "texto.startswith(\"Hola\")"
      ]
    },
    {
      "cell_type": "markdown",
      "metadata": {
        "id": "DgMKpn64OvSN"
      },
      "source": [
        "#### 9. Dado el string `texto = \"Hola Mundo\"`, comprueba si termina con \"Mundo\"."
      ]
    },
    {
      "cell_type": "code",
      "execution_count": 6,
      "metadata": {
        "colab": {
          "base_uri": "https://localhost:8080/"
        },
        "id": "IrEIS0BmOvSO",
        "outputId": "2b2b659a-18af-468d-a95f-fd13e1ef37b5"
      },
      "outputs": [
        {
          "data": {
            "text/plain": [
              "True"
            ]
          },
          "execution_count": 6,
          "metadata": {},
          "output_type": "execute_result"
        }
      ],
      "source": [
        "texto = \"Hola Mundo\"\n",
        "\n",
        "texto.endswith(\"Mundo\")"
      ]
    },
    {
      "cell_type": "markdown",
      "metadata": {
        "id": "Xsf97v72OvSO"
      },
      "source": [
        "#### 10. Dado el string `texto = \"12345\"`, comprueba si todos los caracteres son dígitos."
      ]
    },
    {
      "cell_type": "code",
      "execution_count": 7,
      "metadata": {
        "colab": {
          "base_uri": "https://localhost:8080/"
        },
        "id": "yzTwZqL2OvSO",
        "outputId": "0fe6359c-1bcf-4c76-b7dd-8fcf283f5dbf"
      },
      "outputs": [
        {
          "data": {
            "text/plain": [
              "True"
            ]
          },
          "execution_count": 7,
          "metadata": {},
          "output_type": "execute_result"
        }
      ],
      "source": [
        "texto = \"12345\"\n",
        "\n",
        "texto.isdigit()"
      ]
    },
    {
      "cell_type": "markdown",
      "metadata": {
        "id": "oop_2MH2OvSO"
      },
      "source": [
        "#### 11. Dado el string `texto = \"Hola Mundo Hola\"`, cuenta cuántas veces aparece \"Hola\"."
      ]
    },
    {
      "cell_type": "code",
      "execution_count": 8,
      "metadata": {
        "colab": {
          "base_uri": "https://localhost:8080/"
        },
        "id": "sooEhRaLOvSP",
        "outputId": "f3dd3d7f-e21e-46fd-ecb9-a60c7d64242d"
      },
      "outputs": [
        {
          "data": {
            "text/plain": [
              "2"
            ]
          },
          "execution_count": 8,
          "metadata": {},
          "output_type": "execute_result"
        }
      ],
      "source": [
        "texto = \"Hola Mundo Hola\"\n",
        "\n",
        "texto.count(\"Hola\")"
      ]
    },
    {
      "cell_type": "markdown",
      "metadata": {
        "id": "ZtCHS7YtOvSP"
      },
      "source": [
        "#### 12. Dado el string `texto = \"hola mundo\"`, capitaliza la primera letra."
      ]
    },
    {
      "cell_type": "code",
      "execution_count": 9,
      "metadata": {
        "colab": {
          "base_uri": "https://localhost:8080/",
          "height": 36
        },
        "id": "kbQNXIM6OvSP",
        "outputId": "9b1ac0ed-147a-4ff2-eb98-cbe777d17a23"
      },
      "outputs": [
        {
          "data": {
            "text/plain": [
              "'Hola mundo'"
            ]
          },
          "execution_count": 9,
          "metadata": {},
          "output_type": "execute_result"
        }
      ],
      "source": [
        "texto = \"hola mundo\"\n",
        "\n",
        "texto.capitalize()"
      ]
    },
    {
      "cell_type": "markdown",
      "metadata": {
        "id": "Pklap6ZkOvSP"
      },
      "source": [
        "#### 13. Dado el string `texto = \"hola mundo\"`, pon en mayúscula la primera letra de cada palabra."
      ]
    },
    {
      "cell_type": "code",
      "execution_count": 10,
      "metadata": {
        "colab": {
          "base_uri": "https://localhost:8080/",
          "height": 36
        },
        "id": "QxpD2YoyOvSP",
        "outputId": "fb981bc0-ec6b-4942-f2bc-955428f7a72c"
      },
      "outputs": [
        {
          "data": {
            "text/plain": [
              "'Hola Mundo'"
            ]
          },
          "execution_count": 10,
          "metadata": {},
          "output_type": "execute_result"
        }
      ],
      "source": [
        "texto = \"hola mundo\"\n",
        "\n",
        "texto.title()"
      ]
    },
    {
      "cell_type": "markdown",
      "metadata": {
        "id": "cNapHpDZOvSP"
      },
      "source": [
        "#### 14. Dado el string `texto = \"HolaMundo\"`, comprueba si todos los caracteres son letras."
      ]
    },
    {
      "cell_type": "code",
      "execution_count": 11,
      "metadata": {
        "colab": {
          "base_uri": "https://localhost:8080/"
        },
        "id": "DwfgBW3AOvSQ",
        "outputId": "2a7fb734-694e-4a04-de8c-6344598a9847"
      },
      "outputs": [
        {
          "data": {
            "text/plain": [
              "True"
            ]
          },
          "execution_count": 11,
          "metadata": {},
          "output_type": "execute_result"
        }
      ],
      "source": [
        "texto = \"HolaMundo\"\n",
        "\n",
        "texto.isalpha()"
      ]
    },
    {
      "cell_type": "markdown",
      "metadata": {
        "id": "EG17P4V2OvSQ"
      },
      "source": [
        "#### 15. Dado el string `texto = \"Hola Mundo\"`, invierte el caso de cada letra."
      ]
    },
    {
      "cell_type": "code",
      "execution_count": 12,
      "metadata": {
        "colab": {
          "base_uri": "https://localhost:8080/",
          "height": 36
        },
        "id": "9LB0AloeOvSQ",
        "outputId": "99fe5fbf-a237-4d47-f4f6-782e6f641715"
      },
      "outputs": [
        {
          "data": {
            "text/plain": [
              "'hOLA mUNDO'"
            ]
          },
          "execution_count": 12,
          "metadata": {},
          "output_type": "execute_result"
        }
      ],
      "source": [
        "texto = \"Hola Mundo\"\n",
        "\n",
        "texto.swapcase()"
      ]
    }
  ],
  "metadata": {
    "colab": {
      "provenance": []
    },
    "kernelspec": {
      "display_name": "Python 3",
      "language": "python",
      "name": "python3"
    },
    "language_info": {
      "codemirror_mode": {
        "name": "ipython",
        "version": 3
      },
      "file_extension": ".py",
      "mimetype": "text/x-python",
      "name": "python",
      "nbconvert_exporter": "python",
      "pygments_lexer": "ipython3",
      "version": "3.12.7"
    }
  },
  "nbformat": 4,
  "nbformat_minor": 0
}
