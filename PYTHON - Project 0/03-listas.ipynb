{
 "cells": [
  {
   "cell_type": "markdown",
   "metadata": {},
   "source": [
    "<div style=\"text-align: center;\">\n",
    "  <img src=\"https://github.com/Hack-io-Data/Imagenes/blob/main/01-LogosHackio/logo_celeste@4x.png?raw=true\" alt=\"logo hack(io)\" />\n",
    "</div>"
   ]
  },
  {
   "cell_type": "markdown",
   "metadata": {},
   "source": [
    "\n",
    "#### 1. Declara una lista llamada `numeros` y asigna a ella los valores 15, 20, 60, 23, 40, 74, 48, 19, 54, 67, 93.\n"
   ]
  },
  {
   "cell_type": "code",
   "execution_count": 1,
   "metadata": {},
   "outputs": [],
   "source": [
    "numeros = [15, 20, 60, 23, 40, 74, 48, 19, 54, 67, 93]"
   ]
  },
  {
   "cell_type": "markdown",
   "metadata": {},
   "source": [
    "#### 2. Declara una lista llamada `letras` y asigna a ella los valores 'G', 'B', 'S', 's', 'D', 'z', 'd', 'Z', 'A', 'O', 'D'.\n"
   ]
  },
  {
   "cell_type": "code",
   "execution_count": 2,
   "metadata": {},
   "outputs": [],
   "source": [
    "letras = ['G', 'B', 'S', 's', 'D', 'z', 'd', 'Z', 'A', 'O', 'D']"
   ]
  },
  {
   "cell_type": "markdown",
   "metadata": {},
   "source": [
    "#### 3. Imprime en pantalla el valor de cada lista utilizando la función print()."
   ]
  },
  {
   "cell_type": "code",
   "execution_count": 3,
   "metadata": {},
   "outputs": [
    {
     "name": "stdout",
     "output_type": "stream",
     "text": [
      "[15, 20, 60, 23, 40, 74, 48, 19, 54, 67, 93]\n",
      "['G', 'B', 'S', 's', 'D', 'z', 'd', 'Z', 'A', 'O', 'D']\n"
     ]
    }
   ],
   "source": [
    "print(numeros)\n",
    "print(letras)"
   ]
  },
  {
   "cell_type": "markdown",
   "metadata": {},
   "source": [
    "#### 4. Crea dos variables `longitud_numeros` y `longitud_letras` que correspondan con las longitudes de las listas creadas previamente. "
   ]
  },
  {
   "cell_type": "code",
   "execution_count": 4,
   "metadata": {},
   "outputs": [
    {
     "name": "stdout",
     "output_type": "stream",
     "text": [
      "Cantidad numeros: 11\n",
      "Cantidad letras: 11\n"
     ]
    }
   ],
   "source": [
    "longitud_numeros = len(numeros)\n",
    "longitud_letras = len(letras)\n",
    "\n",
    "print(\"Cantidad numeros:\", len(numeros))\n",
    "print(\"Cantidad letras:\", len(letras))"
   ]
  },
  {
   "cell_type": "markdown",
   "metadata": {},
   "source": [
    "#### 5. ¿Cuál es el máximo y mínimo de la lista  `numeros`?"
   ]
  },
  {
   "cell_type": "code",
   "execution_count": 5,
   "metadata": {},
   "outputs": [
    {
     "name": "stdout",
     "output_type": "stream",
     "text": [
      "Minimo: 15\n",
      "Maximo: 93\n"
     ]
    }
   ],
   "source": [
    "#funcion min(nombre_lista) y max(nombre_lista)\n",
    "print(\"Minimo:\", min(numeros))\n",
    "print(\"Maximo:\", max(numeros))"
   ]
  },
  {
   "cell_type": "markdown",
   "metadata": {},
   "source": [
    "#### 6. ¿Cuál es el máximo y mínimo de la lista  `letras`? "
   ]
  },
  {
   "cell_type": "code",
   "execution_count": 6,
   "metadata": {},
   "outputs": [
    {
     "name": "stdout",
     "output_type": "stream",
     "text": [
      "Minimo: A\n",
      "Maximo: z\n"
     ]
    }
   ],
   "source": [
    "print(\"Minimo:\", min(letras))\n",
    "print(\"Maximo:\", max(letras))"
   ]
  },
  {
   "cell_type": "markdown",
   "metadata": {},
   "source": [
    "#### 7. Selecciona los primeros 5 elementos de la lista `numeros`."
   ]
  },
  {
   "cell_type": "code",
   "execution_count": 7,
   "metadata": {},
   "outputs": [
    {
     "name": "stdout",
     "output_type": "stream",
     "text": [
      "[15, 20, 60, 23, 40]\n",
      "[15, 20, 60, 23, 40]\n"
     ]
    }
   ],
   "source": [
    "#rango en el corchete[posicion_inicial : posicion_final] \n",
    "print(numeros[0:5]) #=> 0 al 4\n",
    "print(numeros[:5]) \n"
   ]
  },
  {
   "cell_type": "markdown",
   "metadata": {},
   "source": [
    "#### 8. Selecciona los ultimos 3 elementos de la lista `letras`."
   ]
  },
  {
   "cell_type": "code",
   "execution_count": 9,
   "metadata": {},
   "outputs": [
    {
     "name": "stdout",
     "output_type": "stream",
     "text": [
      "['A', 'O', 'D']\n",
      "['A', 'O', 'D']\n"
     ]
    }
   ],
   "source": [
    "#rango a partir del tamaño de la lista restandole 3\n",
    "print(letras[len(letras) - 3:])\n",
    "\n",
    "#índice negativo de una lista\n",
    "print(letras[-3:])"
   ]
  },
  {
   "cell_type": "markdown",
   "metadata": {},
   "source": [
    "#### 9. Selecciona los elementos que estaán en la lista `letras` que están en posiciones pares (posiciones de Python). "
   ]
  },
  {
   "cell_type": "code",
   "execution_count": 10,
   "metadata": {},
   "outputs": [
    {
     "name": "stdout",
     "output_type": "stream",
     "text": [
      "['G', 'S', 'D', 'd', 'A', 'D']\n"
     ]
    }
   ],
   "source": [
    "print(letras[::2])\n"
   ]
  },
  {
   "cell_type": "markdown",
   "metadata": {},
   "source": [
    "#### 10. Selecciona del tercer al décimo elemento de la lista `numeros` seleccionalos de 2 en 2."
   ]
  },
  {
   "cell_type": "code",
   "execution_count": 11,
   "metadata": {},
   "outputs": [
    {
     "name": "stdout",
     "output_type": "stream",
     "text": [
      "[60, 40, 48, 54]\n"
     ]
    }
   ],
   "source": [
    "#tercer elemento => posicion 2\n",
    "#decimo elemento => posicion 9\n",
    "print(numeros[2: 10: 2])"
   ]
  },
  {
   "cell_type": "markdown",
   "metadata": {},
   "source": [
    "#### 11. Ordena la lista  `numeros` de menor a mayor sobreescribiendo el valor de la variable original. "
   ]
  },
  {
   "cell_type": "code",
   "execution_count": 12,
   "metadata": {},
   "outputs": [
    {
     "name": "stdout",
     "output_type": "stream",
     "text": [
      "[15, 19, 20, 23, 40, 48, 54, 60, 67, 74, 93]\n"
     ]
    }
   ],
   "source": [
    "numeros.sort()\n",
    "print(numeros)"
   ]
  },
  {
   "cell_type": "markdown",
   "metadata": {},
   "source": [
    "#### 12. ¿Cuántas veces aparece la letra 'd' en la lista de `letras`?"
   ]
  },
  {
   "cell_type": "code",
   "execution_count": 24,
   "metadata": {},
   "outputs": [
    {
     "name": "stdout",
     "output_type": "stream",
     "text": [
      "1\n"
     ]
    }
   ],
   "source": [
    "print(letras.count('d'))"
   ]
  },
  {
   "cell_type": "markdown",
   "metadata": {},
   "source": [
    "#### 13. Elimina el éltimo elemento de la lista de `numeros`."
   ]
  },
  {
   "cell_type": "code",
   "execution_count": 13,
   "metadata": {},
   "outputs": [
    {
     "name": "stdout",
     "output_type": "stream",
     "text": [
      "Lista inicial: [15, 19, 20, 23, 40, 48, 54, 60, 67, 74, 93]\n",
      "Lista eliminado ultimo elemento: [15, 19, 20, 23, 40, 48, 54, 60, 67, 74]\n",
      "Lista eliminado elemento posicion 4: [15, 19, 20, 23, 48, 54, 60, 67, 74]\n",
      "19\n",
      "Lista eliminado el elemento posicion 1: [15, 20, 23, 48, 54, 60, 67, 74]\n"
     ]
    }
   ],
   "source": [
    "print(\"Lista inicial:\", numeros)\n",
    "numeros.pop()\n",
    "print(\"Lista eliminado ultimo elemento:\", numeros)\n",
    "\n",
    "numeros.pop(4)\n",
    "print(\"Lista eliminado elemento posicion 4:\", numeros)\n",
    "\n",
    "valor_borrado = numeros.pop(1)\n",
    "print(valor_borrado)\n",
    "print(\"Lista eliminado el elemento posicion 1:\", numeros)"
   ]
  },
  {
   "cell_type": "markdown",
   "metadata": {},
   "source": [
    "#### 14. Agrega un 2 al final de la lista de `numeros`."
   ]
  },
  {
   "cell_type": "code",
   "execution_count": 14,
   "metadata": {},
   "outputs": [
    {
     "name": "stdout",
     "output_type": "stream",
     "text": [
      "Lista inicial: [15, 20, 23, 48, 54, 60, 67, 74, 2, 4, 5, 6, 2, 4, 5, 6]\n",
      "Lista insertando un 2: [15, 20, 23, 48, 54, 60, 67, 74, 2, 4, 5, 6, 2, 4, 5, 6, 2]\n",
      "[15, 20, 23, 48, 54, 60, 67, 74, 2, 4, 5, 6, 2, 4, 5, 6, 2, 4, 5, 6]\n"
     ]
    }
   ],
   "source": [
    "print(\"Lista inicial:\", numeros)\n",
    "numeros.append(2)\n",
    "print(\"Lista insertando un 2:\", numeros)\n",
    "\n",
    "numeros.extend([4, 5, 6])\n",
    "print(numeros)\n"
   ]
  },
  {
   "cell_type": "markdown",
   "metadata": {},
   "source": [
    "#### 15. Inserta una T en la posicion 3 de la lista de `letras`. "
   ]
  },
  {
   "cell_type": "code",
   "execution_count": 21,
   "metadata": {},
   "outputs": [
    {
     "name": "stdout",
     "output_type": "stream",
     "text": [
      "Lista inicial: ['G', 'B', 'S', 'T', 'T', 's', 'z', 'd', 'Z', 'A', 'O']\n",
      "Lista insertando una T: ['G', 'B', 'S', 'T', 'T', 'T', 's', 'z', 'd', 'Z', 'A', 'O']\n"
     ]
    }
   ],
   "source": [
    "print(\"Lista inicial:\", letras)\n",
    "letras.insert(3, 'T')\n",
    "print(\"Lista insertando una T:\", letras)\n"
   ]
  },
  {
   "cell_type": "markdown",
   "metadata": {},
   "source": [
    "#### 16. Elimina el primer elemento cuyo valor es \"D\" de la lista de `letras`. "
   ]
  },
  {
   "cell_type": "code",
   "execution_count": 17,
   "metadata": {},
   "outputs": [
    {
     "name": "stdout",
     "output_type": "stream",
     "text": [
      "Lista inicial: ['G', 'B', 'S', 'T', 's', 'z', 'd', 'Z', 'A', 'O', 'D']\n",
      "Lista eliminado elemento valor D: ['G', 'B', 'S', 'T', 's', 'z', 'd', 'Z', 'A', 'O']\n"
     ]
    }
   ],
   "source": [
    "print(\"Lista inicial:\", letras)\n",
    "letras.remove('D')\n",
    "print(\"Lista eliminado elemento valor D:\", letras)"
   ]
  },
  {
   "cell_type": "markdown",
   "metadata": {},
   "source": [
    "#### 17. Invierte el orden de la lista de `letras`. "
   ]
  },
  {
   "cell_type": "code",
   "execution_count": 23,
   "metadata": {},
   "outputs": [
    {
     "name": "stdout",
     "output_type": "stream",
     "text": [
      "['z', 's', 'd', 'Z', 'T', 'T', 'T', 'S', 'O', 'G', 'B', 'A']\n"
     ]
    }
   ],
   "source": [
    "letras.sort(reverse=True)\n",
    "print(letras)"
   ]
  },
  {
   "cell_type": "markdown",
   "metadata": {},
   "source": [
    "#### 18. Genera una lista vacía y añade la lista `numeros` y `letras` a la lista vacía. "
   ]
  },
  {
   "cell_type": "code",
   "execution_count": 28,
   "metadata": {},
   "outputs": [
    {
     "name": "stdout",
     "output_type": "stream",
     "text": [
      "[]\n",
      "[15, 60, 23, 74, 48, 19, 54, 67, 2, 2, 4, 5, 6]\n",
      "[15, 60, 23, 74, 48, 19, 54, 67, 2, 2, 4, 5, 6, 'G', 'B', 'S', 's', 'z', 'd', 'Z', 'A', 'O', 'D']\n"
     ]
    }
   ],
   "source": [
    "lista = []\n",
    "print(lista)\n",
    "\n",
    "#a la lista vacía le añado los elementos de la lista numeros\n",
    "lista.extend(numeros)\n",
    "print(lista)\n",
    "\n",
    "#a la lista con los numeros le añado los elementos de letras\n",
    "lista.extend(letras)\n",
    "print(lista)"
   ]
  }
 ],
 "metadata": {
  "kernelspec": {
   "display_name": "Python 3",
   "language": "python",
   "name": "python3"
  },
  "language_info": {
   "codemirror_mode": {
    "name": "ipython",
    "version": 3
   },
   "file_extension": ".py",
   "mimetype": "text/x-python",
   "name": "python",
   "nbconvert_exporter": "python",
   "pygments_lexer": "ipython3",
   "version": "3.12.7"
  }
 },
 "nbformat": 4,
 "nbformat_minor": 2
}
