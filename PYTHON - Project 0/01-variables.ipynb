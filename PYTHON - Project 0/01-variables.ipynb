{
  "cells": [
    {
      "cell_type": "markdown",
      "metadata": {
        "id": "qnHAI2ps-zP3"
      },
      "source": [
        "<div style=\"text-align: center;\">\n",
        "  <img src=\"https://github.com/Hack-io-Data/Imagenes/blob/main/01-LogosHackio/logo_celeste@4x.png?raw=true\" alt=\"logo hack(io)\" />\n",
        "</div>"
      ]
    },
    {
      "cell_type": "markdown",
      "metadata": {
        "id": "HQDgIA1J-zP-"
      },
      "source": [
        "## Tipos de datos\n",
        "\n",
        "Es esencial comprender los distintos tipos de datos en Python, como enteros, flotantes, cadenas de texto, booleanos, listas, tuplas y diccionarios. Este conocimiento es fundamental para el diseño de algoritmos, ya que los tipos de datos determinan cómo se almacenan y procesan los datos en la memoria.\n",
        "\n",
        "En esta batería de ejercicios, exploraremos los tipos de datos en Python y cómo utilizarlos eficientemente. Desde los conceptos básicos hasta los más avanzados, esta serie de ejercicios está diseñada para mejorar las habilidades de programación en Python y profundizar la comprensión de los tipos de datos, esencial para desarrollar aplicaciones de calidad y eficientes."
      ]
    },
    {
      "cell_type": "markdown",
      "metadata": {
        "id": "4DQ5-JRC-zP_"
      },
      "source": [
        "### Ejercicio 1: Operaciones aritméticas con números complejos\n",
        "\n",
        "1-Declara dos variables `numero1` y `numero2` y asigna a ellas valores numéricos complejos.\n",
        "\n",
        "2-Realiza las siguientes operaciones: suma, resta, multiplicación y división.\n",
        "\n",
        "3-Imprime en pantalla el resultado de cada operación utilizando la función `print()`."
      ]
    },
    {
      "cell_type": "markdown",
      "source": [],
      "metadata": {
        "id": "HwK-JxQiCzuc"
      }
    },
    {
      "cell_type": "code",
      "execution_count": null,
      "metadata": {
        "id": "W6BcfWYt-zQA",
        "colab": {
          "base_uri": "https://localhost:8080/"
        },
        "outputId": "643042c1-4bb2-44a4-ad9c-1d331b687879"
      },
      "outputs": [
        {
          "output_type": "stream",
          "name": "stdout",
          "text": [
            "Suma (4-1j)\n",
            "Resta (2+9j)\n",
            "Multiplicacion (23-11j)\n",
            "Division (-0.6538461538461539+0.7307692307692307j)\n"
          ]
        }
      ],
      "source": [
        "#1-Declara dos variables numero1 y numero2 y asigna a ellas valores numéricos complejos.\n",
        "numero1 = 3 + 4j\n",
        "numero2 = 1 - 5j\n",
        "\n",
        "#2-Realiza las siguientes operaciones: suma, resta, multiplicación y división.\n",
        "suma = numero1 + numero2\n",
        "resta = numero1 - numero2\n",
        "multiplicacion = numero1 * numero2\n",
        "division = numero1 / numero2  #para numeros complejos no podemos utilizar la division entera //\n",
        "\n",
        "#3-Imprime en pantalla el resultado de cada operación utilizando la función print().\n",
        "print(\"Suma\", suma)\n",
        "print(\"Resta\", resta)\n",
        "print(\"Multiplicacion\", multiplicacion)\n",
        "print(\"Division\", division)"
      ]
    },
    {
      "cell_type": "markdown",
      "metadata": {
        "id": "OzSXsi4u-zQA"
      },
      "source": [
        "### Ejercicio 2: Formateo de cadenas de texto\n",
        "\n",
        "1-Declara una variable `nombre` y asigna a ella el valor 'Juan'.\n",
        "\n",
        "2-Declara una variable `edad` y asigna a ella el valor 25.\n",
        "\n",
        "3- Declara una variable llamada `peso` y asigna a ella el valor 75.5.\n",
        "\n",
        "4-Declara una variable llamada `altura` y asigna a ella el valor 1.75.\n",
        "\n",
        "5-Imprime en pantalla el valor de cada variable utilizando la función print().\n",
        "\n",
        "6-Utiliza el formateo de cadenas de texto para imprimir en pantalla un mensaje que diga: `Hola me llamo Juan, tengo 25 años, peso 75.5 kg y mido 1.75 m`."
      ]
    },
    {
      "cell_type": "code",
      "execution_count": null,
      "metadata": {
        "colab": {
          "base_uri": "https://localhost:8080/"
        },
        "id": "VyGBg7ah-zQB",
        "outputId": "4651071a-7cdc-485b-f5fa-dd5748d8fee2"
      },
      "outputs": [
        {
          "output_type": "stream",
          "name": "stdout",
          "text": [
            "Nombre: Juan\n",
            "Edad: 25\n",
            "Peso: 75.5\n",
            "Altura: 1.75\n",
            "Hola me llamo Juan, tengo 25 años, peso 75.5 kg y mido 1.75 m.\n"
          ]
        }
      ],
      "source": [
        "#1-Declara una variable nombre y asigna a ella el valor 'Juan'.\n",
        "nombre = \"Juan\"\n",
        "\n",
        "#2-Declara una variable edad y asigna a ella el valor 25.\n",
        "edad = 25\n",
        "\n",
        "#3- Declara una variable llamada peso y asigna a ella el valor 75.5.\n",
        "peso = 75.5\n",
        "\n",
        "#4-Declara una variable llamada altura y asigna a ella el valor 1.75.\n",
        "altura = 1.75\n",
        "\n",
        "#5-Imprime en pantalla el valor de cada variable utilizando la función print().\n",
        "print(\"Nombre:\", nombre)\n",
        "print(\"Edad:\", edad)\n",
        "print(\"Peso:\", peso)\n",
        "print(\"Altura:\", altura)\n",
        "\n",
        "#6-Utiliza el formateo de cadenas de texto para imprimir en pantalla un mensaje que diga: Hola me llamo Juan, tengo 25 años, peso 75.5 kg y mido 1.75 m.\n",
        "print(\"Hola me llamo \" + nombre + \", tengo \" + str(edad) + \" años, peso \" + str(peso) +  \" kg y mido \" + str(altura) + \" m.\")"
      ]
    },
    {
      "cell_type": "markdown",
      "metadata": {
        "id": "dCOvNrL1-zQB"
      },
      "source": [
        "### Ejercicio 3: Conversión de cadenas de texto a números\n",
        "\n",
        "\n",
        "1-Declara una variable `cadena` y asigna a ella el valor '10'.\n",
        "\n",
        "2-Utiliza la función type() para obtener el tipo de dato de `cadena` y asigna el resultado a una variable llamada `tipo`.\n",
        "\n",
        "3- Imprime en pantalla el valor de `tipo` utilizando la función print().\n",
        "\n",
        "4-Convierte el valor de `cadena` a entero y asigna el resultado a una variable llamada `numero`.\n",
        "\n",
        "5-Realiza la operación de incremento en `numero` y asigna el resultado a la misma variable.\n"
      ]
    },
    {
      "cell_type": "code",
      "execution_count": null,
      "metadata": {
        "id": "w0baHhio-zQC",
        "colab": {
          "base_uri": "https://localhost:8080/"
        },
        "outputId": "c78c023f-6af3-434f-815a-fcf642ad793b"
      },
      "outputs": [
        {
          "output_type": "stream",
          "name": "stdout",
          "text": [
            "Tipo de variable <class 'str'>\n",
            "10\n",
            "11\n"
          ]
        }
      ],
      "source": [
        "#1-Declara una variable cadena y asigna a ella el valor '10'.\n",
        "cadena = '10'\n",
        "\n",
        "#2-Utiliza la función type() para obtener el tipo de dato de cadena y asigna el resultado a una variable llamada tipo.\n",
        "tipo = type(cadena)\n",
        "\n",
        "#3- Imprime en pantalla el valor de tipo utilizando la función print().\n",
        "print(\"Tipo de variable\", tipo)\n",
        "\n",
        "#4-Convierte el valor de cadena a entero y asigna el resultado a una variable llamada numero.\n",
        "numero = int(cadena)\n",
        "print(numero)\n",
        "\n",
        "#5-Realiza la operación de incremento en numero y asigna el resultado a la misma variable.\n",
        "numero = numero + 1 #numero += 1\n",
        "print(numero)"
      ]
    },
    {
      "cell_type": "markdown",
      "metadata": {
        "id": "ieFRxQwm-zQC"
      },
      "source": [
        "### Ejercicio 4: Uso de la función input()\n",
        "\n",
        "1-Utiliza la función input() para solicitar al usuario que ingrese un número.\n",
        "\n",
        "2-Asigna el valor ingresado por el usuario a una variable llamada `numero`.\n",
        "\n",
        "3-Realiza la operación de incremento en `numero` y asigna el resultado a la misma variable.\n",
        "\n",
        "4-Imprime en pantalla el valor de numero utilizando la función print()."
      ]
    },
    {
      "cell_type": "code",
      "execution_count": null,
      "metadata": {
        "id": "3FDppQkY-zQC",
        "colab": {
          "base_uri": "https://localhost:8080/"
        },
        "outputId": "877660e2-e9e5-4c50-b4c1-1775aa6a0d0a"
      },
      "outputs": [
        {
          "output_type": "stream",
          "name": "stdout",
          "text": [
            "Introduce un numero: 34\n",
            "Resultado: 35\n"
          ]
        }
      ],
      "source": [
        "#1-Utiliza la función input() para solicitar al usuario que ingrese un número.\n",
        "#2-Asigna el valor ingresado por el usuario a una variable llamada numero.\n",
        "numero = int(input(\"Introduce un numero: \"))\n",
        "\n",
        "#3-Realiza la operación de incremento en numero y asigna el resultado a la misma variable.\n",
        "numero = numero + 1  #numero += 1\n",
        "\n",
        "#4-Imprime en pantalla el valor de numero utilizando la función print().\n",
        "print(\"Resultado:\", numero)"
      ]
    }
  ],
  "metadata": {
    "kernelspec": {
      "display_name": "hackio",
      "language": "python",
      "name": "python3"
    },
    "language_info": {
      "codemirror_mode": {
        "name": "ipython",
        "version": 3
      },
      "file_extension": ".py",
      "mimetype": "text/x-python",
      "name": "python",
      "nbconvert_exporter": "python",
      "pygments_lexer": "ipython3",
      "version": "3.11.8"
    },
    "colab": {
      "provenance": []
    }
  },
  "nbformat": 4,
  "nbformat_minor": 0
}