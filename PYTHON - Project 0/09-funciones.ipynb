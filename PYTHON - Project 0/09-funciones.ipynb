{
 "cells": [
  {
   "cell_type": "markdown",
   "metadata": {},
   "source": [
    "\n",
    "<div style=\"text-align: center;\">\n",
    "  <img src=\"https://github.com/Hack-io-Data/Imagenes/blob/main/01-LogosHackio/logo_celeste@4x.png?raw=true\" alt=\"esquema\" />\n",
    "</div>"
   ]
  },
  {
   "cell_type": "markdown",
   "metadata": {},
   "source": [
    "#### 1. Escribe una función sin parámetros que imprima el siguiente mensaje \"¡Hola! Bienvenido.\"\n"
   ]
  },
  {
   "cell_type": "code",
   "execution_count": 1,
   "metadata": {},
   "outputs": [
    {
     "name": "stdout",
     "output_type": "stream",
     "text": [
      "¡Hola! Bienvenido\n"
     ]
    }
   ],
   "source": [
    "def saludo():\n",
    "    print(\"¡Hola! Bienvenido\")\n",
    "\n",
    "saludo()"
   ]
  },
  {
   "cell_type": "markdown",
   "metadata": {},
   "source": [
    "#### 2. Escribe una función que reciba dos parámetros y devuelva la suma de ambos.\n"
   ]
  },
  {
   "cell_type": "code",
   "execution_count": 2,
   "metadata": {},
   "outputs": [
    {
     "name": "stdout",
     "output_type": "stream",
     "text": [
      "Suma: 9\n"
     ]
    }
   ],
   "source": [
    "def suma(numero1, numero2):\n",
    "    return numero1 + numero2\n",
    "\n",
    "numero1 = int(input(\"Introduce numero 1: \"))\n",
    "numero2 = int(input(\"Introduce numero 2: \"))\n",
    "\n",
    "resultado = suma(numero1, numero2)\n",
    "print(\"Suma:\", resultado)"
   ]
  },
  {
   "cell_type": "markdown",
   "metadata": {},
   "source": [
    "#### 3. Escribe una función que reciba un número y devuelva True si es par, False si no lo es."
   ]
  },
  {
   "cell_type": "code",
   "execution_count": 3,
   "metadata": {},
   "outputs": [
    {
     "name": "stdout",
     "output_type": "stream",
     "text": [
      "Resultado: True\n"
     ]
    }
   ],
   "source": [
    "def es_par(numero):\n",
    "    return numero % 2 == 0\n",
    "\n",
    "numero = int(input(\"Introduce un número: \"))\n",
    "\n",
    "resultado = es_par(numero)\n",
    "print(\"Resultado:\", resultado)"
   ]
  },
  {
   "cell_type": "markdown",
   "metadata": {},
   "source": [
    "#### 4. Escribe un función que devuelva un saludo personalizado a una persona dado su nombre. \n"
   ]
  },
  {
   "cell_type": "code",
   "execution_count": 4,
   "metadata": {},
   "outputs": [
    {
     "name": "stdout",
     "output_type": "stream",
     "text": [
      "Hola manuel\n"
     ]
    }
   ],
   "source": [
    "def saludo(nombre):\n",
    "    print(\"Hola\", nombre)\n",
    "\n",
    "nombre = input(\"Introduce nombre: \")\n",
    "saludo(nombre)"
   ]
  },
  {
   "cell_type": "markdown",
   "metadata": {},
   "source": [
    "#### 5. Escribe una función que sume todos los números que reciba como argumento. La función debe recibir una cantidad variable de argumentos y devolver la suma de todos ellos."
   ]
  },
  {
   "cell_type": "code",
   "execution_count": 1,
   "metadata": {},
   "outputs": [
    {
     "name": "stdout",
     "output_type": "stream",
     "text": [
      "La suma de los números es: 15\n",
      "La suma de los números es: 6\n"
     ]
    }
   ],
   "source": [
    "def sumar_numeros(*numeros):\n",
    "    return sum(numeros)\n",
    "\n",
    "resultado = sumar_numeros(1, 2, 3, 4, 5)\n",
    "\n",
    "print(\"La suma de los números es:\", resultado)\n",
    "\n",
    "#otra ejecución\n",
    "resultado = sumar_numeros(1, 2, 3)\n",
    "print(\"La suma de los números es:\", resultado)\n"
   ]
  },
  {
   "cell_type": "markdown",
   "metadata": {},
   "source": [
    "#### 6. Escribe una función que cuente las letras de una palabra y devuelva un diccionario con la cantidad de veces que se repite cada letra \n"
   ]
  },
  {
   "cell_type": "code",
   "execution_count": 1,
   "metadata": {},
   "outputs": [
    {
     "name": "stdout",
     "output_type": "stream",
     "text": [
      "{'s': 4, 'u': 1, 'p': 2, 'e': 2, 'r': 2, 'c': 2, 'a': 3, 'l': 3, 'i': 6, 'f': 1, 'g': 1, 't': 1, 'o': 3, 'd': 1}\n"
     ]
    }
   ],
   "source": [
    "def contar_letras(palabra):\n",
    "    diccionario = {}\n",
    "    \n",
    "    for letra in palabra:\n",
    "        if letra in diccionario:\n",
    "            diccionario[letra] = diccionario[letra] + 1  \n",
    "        else:\n",
    "            diccionario[letra] = 1  \n",
    "\n",
    "    return diccionario\n",
    "\n",
    "\n",
    "palabra = input(\"Introduce una palabra: \")\n",
    "resultado = contar_letras(palabra)\n",
    "\n",
    "print(resultado)"
   ]
  },
  {
   "cell_type": "markdown",
   "metadata": {},
   "source": [
    "#### 7. Escribe un función recursiva para calcular el factorial de un número entero no negativo."
   ]
  },
  {
   "cell_type": "code",
   "execution_count": 6,
   "metadata": {},
   "outputs": [
    {
     "name": "stdout",
     "output_type": "stream",
     "text": [
      "720\n"
     ]
    }
   ],
   "source": [
    "def factorial(n):\n",
    "    if n == 0 or n == 1:\n",
    "        return 1\n",
    "    else:\n",
    "        return n * factorial(n - 1)\n",
    "\n",
    "n = int(input(\"Introduce un número: \"))\n",
    "\n",
    "if (n > 0):\n",
    "    resultado = factorial(n)\n",
    "\n",
    "    print(resultado)\n",
    "else:\n",
    "    print(\"El valor introducido es negativo o cero\")"
   ]
  },
  {
   "cell_type": "markdown",
   "metadata": {},
   "source": [
    "#### 8. Escribe una función que tome dos parámetros: `figura` (una cadena que puede ser `\"rectangulo\"`, `\"circulo\"` o `\"triangulo\"`) y `datos` (una tupla con los datos necesarios para calcular el área de la figura). "
   ]
  },
  {
   "cell_type": "code",
   "execution_count": 2,
   "metadata": {},
   "outputs": [
    {
     "name": "stdout",
     "output_type": "stream",
     "text": [
      "El área del rectangulo es: 24.0\n"
     ]
    }
   ],
   "source": [
    "import math\n",
    "\n",
    "def calcular_area(figura, datos):\n",
    "    if figura == \"rectangulo\":\n",
    "        # Para un rectángulo, la tupla 'datos' debe contener (base, altura)\n",
    "        base = datos[0]\n",
    "        altura = datos[1]\n",
    "        return base * altura\n",
    "    \n",
    "    elif figura == \"circulo\":\n",
    "        # Para un círculo, la tupla 'datos' debe contener (radio,)\n",
    "        radio = datos[0]\n",
    "        return math.pi * radio ** 2\n",
    "    \n",
    "    elif figura == \"triangulo\":\n",
    "        # Para un triángulo, la tupla 'datos' debe contener (base, altura)\n",
    "        base = datos[0]\n",
    "        altura = datos[1]\n",
    "        return (base * altura) / 2\n",
    "    \n",
    "    else:\n",
    "        return \"Figura no válida\"\n",
    "\n",
    "\n",
    "figura = input(\"Introduce la figura (rectangulo, circulo, triangulo): \")\n",
    "\n",
    "if (figura == \"rectangulo\"):\n",
    "    base = float(input(\"Introduce la base del rectángulo: \"))\n",
    "    altura = float(input(\"Introduce la altura del rectángulo: \"))\n",
    "    datos = (base, altura)\n",
    "    \n",
    "elif (figura == \"circulo\"):\n",
    "    radio = float(input(\"Introduce el radio del círculo: \"))\n",
    "    datos = (radio,)\n",
    "    \n",
    "elif (figura == \"triangulo\"):\n",
    "    base = float(input(\"Introduce la base del triángulo: \"))\n",
    "    altura = float(input(\"Introduce la altura del triángulo: \"))\n",
    "    datos = (base, altura)\n",
    "\n",
    "else:\n",
    "    print(\"Tipo figura incorrecto\")\n",
    "\n",
    "resultado = calcular_area(figura, datos)\n",
    "print(f\"El área del {figura} es: {resultado}\")"
   ]
  },
  {
   "cell_type": "markdown",
   "metadata": {},
   "source": [
    "#### 9. Escribe una función que tome una lista de números como parámetro y devuelva el número más grande de la lista. No utilices la función `max()` de Python en tu solución."
   ]
  },
  {
   "cell_type": "code",
   "execution_count": null,
   "metadata": {},
   "outputs": [],
   "source": [
    "def numero_mayor_lista(lista):\n",
    "\n",
    "    # Inicializar mayor a cero\n",
    "    mayor = 0\n",
    "    \n",
    "    for num in lista:\n",
    "        if num > mayor:\n",
    "            mayor = num\n",
    "    \n",
    "    return mayor\n",
    "\n",
    "numeros = [3, 45, 2, 89, 23, 1]\n",
    "resultado = numero_mayor_lista(numeros)\n",
    "\n",
    "print(\"El número mayor es:\", resultado)"
   ]
  },
  {
   "cell_type": "markdown",
   "metadata": {},
   "source": [
    "#### 10. Escribe una función que tome una cadena como parámetro un texto y devuelva `True` si la cadena es un palíndromo (se lee igual de izquierda a derecha que de derecha a izquierda), y `False` en caso contrario. Ignora los espacios y considera mayúsculas y minúsculas de manera insensible.\n"
   ]
  },
  {
   "cell_type": "code",
   "execution_count": 5,
   "metadata": {},
   "outputs": [
    {
     "name": "stdout",
     "output_type": "stream",
     "text": [
      "Es palindromo: True\n"
     ]
    }
   ],
   "source": [
    "def es_palindromo(texto):\n",
    "\n",
    "   \n",
    "    inicio = 0\n",
    "    fin = len(texto) - 1\n",
    "\n",
    "    palindromo = True\n",
    "\n",
    "    texto = texto.lower()\n",
    "\n",
    "    while (inicio < fin and palindromo == True):\n",
    "        if (texto[inicio] != texto[fin]):\n",
    "            #si las letras de inicio y fin no son iguales, no es un palindromo\n",
    "            palindromo = False\n",
    "        \n",
    "        inicio = inicio + 1\n",
    "        fin = fin - 1\n",
    "\n",
    "    return palindromo\n",
    "\n",
    "texto = input(\"Introduce un texto\")\n",
    "resultado = es_palindromo(texto)\n",
    "print(\"Es palindromo:\", resultado)\n"
   ]
  },
  {
   "cell_type": "markdown",
   "metadata": {},
   "source": [
    "#### 11. Escribe una función que tome una cadena como parámetro y devuelva dos valores: la cantidad de vocales y la cantidad de consonantes presentes en la cadena. Ignora los espacios y considera mayúsculas y minúsculas de manera insensible.\n"
   ]
  },
  {
   "cell_type": "code",
   "execution_count": 5,
   "metadata": {},
   "outputs": [
    {
     "name": "stdout",
     "output_type": "stream",
     "text": [
      "Vocales: 10 Consonantes: 13\n"
     ]
    }
   ],
   "source": [
    "def contar_vocales_consonantes(cadena):\n",
    "\n",
    "    contador_vocales = 0\n",
    "    contador_consonantes = 0\n",
    "    \n",
    "    for caracter in cadena.lower():\n",
    "        if caracter.isalpha(): \n",
    "            if (caracter == 'a' or caracter == 'e' \n",
    "                or caracter == 'i' or caracter == 'o'\n",
    "                or caracter == 'u'):\n",
    "                contador_vocales = contador_vocales + 1\n",
    "            else:\n",
    "                contador_consonantes = contador_consonantes + 1\n",
    "\n",
    "    return contador_vocales, contador_consonantes\n",
    "\n",
    "texto = input(\"Introduce texto\")\n",
    "vocales, consonantes = contar_vocales_consonantes(texto)\n",
    "\n",
    "print(\"Vocales:\", vocales, \"Consonantes:\", consonantes)"
   ]
  }
 ],
 "metadata": {
  "kernelspec": {
   "display_name": "Python 3",
   "language": "python",
   "name": "python3"
  },
  "language_info": {
   "codemirror_mode": {
    "name": "ipython",
    "version": 3
   },
   "file_extension": ".py",
   "mimetype": "text/x-python",
   "name": "python",
   "nbconvert_exporter": "python",
   "pygments_lexer": "ipython3",
   "version": "3.12.7"
  }
 },
 "nbformat": 4,
 "nbformat_minor": 2
}
